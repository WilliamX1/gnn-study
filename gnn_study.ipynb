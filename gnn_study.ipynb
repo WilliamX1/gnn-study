{
  "nbformat": 4,
  "nbformat_minor": 0,
  "metadata": {
    "colab": {
      "name": "gnn-study.ipynb",
      "provenance": [],
      "toc_visible": true,
      "authorship_tag": "ABX9TyNstrf+/9ewSOcJC5y8hQJ7",
      "include_colab_link": true
    },
    "kernelspec": {
      "name": "python3",
      "display_name": "Python 3"
    },
    "language_info": {
      "name": "python"
    }
  },
  "cells": [
    {
      "cell_type": "markdown",
      "metadata": {
        "id": "view-in-github",
        "colab_type": "text"
      },
      "source": [
        "<a href=\"https://colab.research.google.com/github/WilliamX1/gnn-study/blob/main/gnn_study.ipynb\" target=\"_parent\"><img src=\"https://colab.research.google.com/assets/colab-badge.svg\" alt=\"Open In Colab\"/></a>"
      ]
    },
    {
      "cell_type": "code",
      "execution_count": null,
      "metadata": {
        "id": "beic8jQuKVb3"
      },
      "outputs": [],
      "source": [
        ""
      ]
    }
  ]
}